{
  "nbformat": 4,
  "nbformat_minor": 0,
  "metadata": {
    "colab": {
      "provenance": [],
      "authorship_tag": "ABX9TyNGpWe6pGTgGqHJaW+tfb+q",
      "include_colab_link": true
    },
    "kernelspec": {
      "name": "python3",
      "display_name": "Python 3"
    },
    "language_info": {
      "name": "python"
    },
    "accelerator": "GPU"
  },
  "cells": [
    {
      "cell_type": "markdown",
      "metadata": {
        "id": "view-in-github",
        "colab_type": "text"
      },
      "source": [
        "<a href=\"https://colab.research.google.com/github/xcansuxakgul/UrbanSoundClassification/blob/main/preprocessing.ipynb\" target=\"_parent\"><img src=\"https://colab.research.google.com/assets/colab-badge.svg\" alt=\"Open In Colab\"/></a>"
      ]
    },
    {
      "cell_type": "code",
      "source": [
        "from google.colab import drive\n",
        "drive.mount('/content/drive')"
      ],
      "metadata": {
        "colab": {
          "base_uri": "https://localhost:8080/"
        },
        "id": "OE9gQxhkP6mW",
        "outputId": "f01ee6d4-5fe5-44b1-cf98-f2648978ad69"
      },
      "execution_count": 3,
      "outputs": [
        {
          "output_type": "stream",
          "name": "stdout",
          "text": [
            "Drive already mounted at /content/drive; to attempt to forcibly remount, call drive.mount(\"/content/drive\", force_remount=True).\n"
          ]
        }
      ]
    },
    {
      "cell_type": "code",
      "source": [
        "import os\n",
        "import cv2\n",
        "import numpy as np\n",
        "from sklearn.model_selection import train_test_split"
      ],
      "metadata": {
        "id": "YEctRrq8P9Fm"
      },
      "execution_count": 4,
      "outputs": []
    },
    {
      "cell_type": "code",
      "source": [
        "images = list()\n",
        "labels= list()\n",
        "\n",
        "direction = '/content/drive/MyDrive/spectrograms'\n",
        "for category in range(0,10):    \n",
        "    path = os.path.join(direction, str(category))            \n",
        "    for img in os.listdir(path):\n",
        "        img_arr = cv2.imread(os.path.join(path,img), cv2.IMREAD_GRAYSCALE)\n",
        "        img_arr = cv2.resize(img_arr, (32, 32))\n",
        "        img_arr = img_arr / 255\n",
        "        images.append(img_arr)\n",
        "        labels.append(category)     "
      ],
      "metadata": {
        "id": "_dGQ6svyTglE"
      },
      "execution_count": 5,
      "outputs": []
    },
    {
      "cell_type": "code",
      "source": [
        "X = np.array(images).reshape(-1, 32, 32, 1)\n",
        "y = np.array(labels)"
      ],
      "metadata": {
        "id": "04T4pNJWcsc_"
      },
      "execution_count": 7,
      "outputs": []
    },
    {
      "cell_type": "code",
      "source": [
        "X_train, X_test, y_train, y_test = train_test_split(X, y, test_size=0.1, random_state=1)\n",
        "\n",
        "X_train, X_val, y_train, y_val = train_test_split(X_train, y_train, test_size=0.1, random_state=1)"
      ],
      "metadata": {
        "id": "Z87VTxEvdUUT"
      },
      "execution_count": 10,
      "outputs": []
    },
    {
      "cell_type": "code",
      "source": [
        "print(len(X_train),len(y_train))\n",
        "print(len(X_val),len(y_val))\n",
        "print(len(X_test), len(y_test))"
      ],
      "metadata": {
        "colab": {
          "base_uri": "https://localhost:8080/"
        },
        "id": "udF-sn2seYR-",
        "outputId": "832d80a2-6d9f-45de-846f-3d2df6bf0b68"
      },
      "execution_count": 11,
      "outputs": [
        {
          "output_type": "stream",
          "name": "stdout",
          "text": [
            "7072 7072\n",
            "786 786\n",
            "874 874\n"
          ]
        }
      ]
    },
    {
      "cell_type": "code",
      "source": [
        "np.save('/content/drive/MyDrive/X_train.npy', X_train)\n",
        "np.save(\"/content/drive/MyDrive/y_train.npy\", y_train)\n",
        "np.save(\"/content/drive/MyDrive/X_val.npy\", X_val)\n",
        "np.save(\"/content/drive/MyDrive/y_val.npy\", y_val)\n",
        "np.save(\"/content/drive/MyDrive/y_test.npy\", y_test)\n",
        "np.save(\"/content/drive/MyDrive/y_test.npy\", y_test)"
      ],
      "metadata": {
        "id": "woL6MBBkeag0"
      },
      "execution_count": 12,
      "outputs": []
    },
    {
      "cell_type": "code",
      "source": [],
      "metadata": {
        "id": "tqVP3W-rMZQx"
      },
      "execution_count": null,
      "outputs": []
    }
  ]
}