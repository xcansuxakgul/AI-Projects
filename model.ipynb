{
  "nbformat": 4,
  "nbformat_minor": 0,
  "metadata": {
    "colab": {
      "provenance": [],
      "collapsed_sections": [],
      "authorship_tag": "ABX9TyM3/OcO+1bkSx46YemQPELt",
      "include_colab_link": true
    },
    "kernelspec": {
      "name": "python3",
      "display_name": "Python 3"
    },
    "language_info": {
      "name": "python"
    },
    "accelerator": "GPU"
  },
  "cells": [
    {
      "cell_type": "markdown",
      "metadata": {
        "id": "view-in-github",
        "colab_type": "text"
      },
      "source": [
        "<a href=\"https://colab.research.google.com/github/xcansuxakgul/UrbanSoundClassification/blob/main/model.ipynb\" target=\"_parent\"><img src=\"https://colab.research.google.com/assets/colab-badge.svg\" alt=\"Open In Colab\"/></a>"
      ]
    },
    {
      "cell_type": "code",
      "execution_count": 10,
      "metadata": {
        "colab": {
          "base_uri": "https://localhost:8080/"
        },
        "id": "FkP-COE4er6c",
        "outputId": "8f0e5362-109c-4d30-a392-3fc90ebca721"
      },
      "outputs": [
        {
          "output_type": "stream",
          "name": "stdout",
          "text": [
            "Drive already mounted at /content/drive; to attempt to forcibly remount, call drive.mount(\"/content/drive\", force_remount=True).\n"
          ]
        }
      ],
      "source": [
        "from google.colab import drive\n",
        "drive.mount('/content/drive')"
      ]
    },
    {
      "cell_type": "code",
      "source": [
        "import numpy as np\n",
        "import tensorflow as tf\n",
        "from tensorflow.keras import datasets, layers, models\n",
        "import matplotlib.pyplot as plt"
      ],
      "metadata": {
        "id": "meUoluDdJEW-"
      },
      "execution_count": 11,
      "outputs": []
    },
    {
      "cell_type": "code",
      "source": [
        "X_train= np.load('/content/drive/MyDrive/X_train.npy')\n",
        "X_val= np.load('/content/drive/MyDrive/X_val.npy')\n",
        "X_test= np.load('/content/drive/MyDrive/X_test.npy')\n",
        "y_train = np.load('/content/drive/MyDrive/y_train.npy')\n",
        "y_val = np.load('/content/drive/MyDrive/y_val.npy')\n",
        "y_test = np.load('/content/drive/MyDrive/y_test.npy')"
      ],
      "metadata": {
        "id": "1sm312cxesh3"
      },
      "execution_count": 12,
      "outputs": []
    },
    {
      "cell_type": "code",
      "source": [
        "model = tf.keras.Sequential()\n",
        "model.add(tf.keras.layers.Conv2D(32, kernel_size=(3,3), padding=\"same\", activation=\"relu\", input_shape=(32,32,1)))\n",
        "model.add(tf.keras.layers.MaxPooling2D((2,2)))\n",
        "model.add(tf.keras.layers.Conv2D(64, kernel_size=(3,3), padding=\"same\", activation=\"relu\"))\n",
        "model.add(tf.keras.layers.MaxPooling2D((2,2)))\n",
        "model.add(tf.keras.layers.Conv2D(64, kernel_size=(3,3), padding=\"same\", activation=\"relu\"))"
      ],
      "metadata": {
        "id": "HhG85Er0Lj_z"
      },
      "execution_count": 13,
      "outputs": []
    },
    {
      "cell_type": "code",
      "source": [
        "model.summary()"
      ],
      "metadata": {
        "colab": {
          "base_uri": "https://localhost:8080/"
        },
        "id": "ZgNMxUBsMhct",
        "outputId": "96adbb7d-e459-4f9d-eb9d-0bf8a02e621a"
      },
      "execution_count": 14,
      "outputs": [
        {
          "output_type": "stream",
          "name": "stdout",
          "text": [
            "Model: \"sequential_1\"\n",
            "_________________________________________________________________\n",
            " Layer (type)                Output Shape              Param #   \n",
            "=================================================================\n",
            " conv2d_3 (Conv2D)           (None, 32, 32, 32)        320       \n",
            "                                                                 \n",
            " max_pooling2d_2 (MaxPooling  (None, 16, 16, 32)       0         \n",
            " 2D)                                                             \n",
            "                                                                 \n",
            " conv2d_4 (Conv2D)           (None, 16, 16, 64)        18496     \n",
            "                                                                 \n",
            " max_pooling2d_3 (MaxPooling  (None, 8, 8, 64)         0         \n",
            " 2D)                                                             \n",
            "                                                                 \n",
            " conv2d_5 (Conv2D)           (None, 8, 8, 64)          36928     \n",
            "                                                                 \n",
            "=================================================================\n",
            "Total params: 55,744\n",
            "Trainable params: 55,744\n",
            "Non-trainable params: 0\n",
            "_________________________________________________________________\n"
          ]
        }
      ]
    },
    {
      "cell_type": "code",
      "source": [
        "model.add(layers.Flatten())\n",
        "model.add(layers.Dense(64, activation='relu'))\n",
        "model.add(layers.Dropout(0.5))\n",
        "model.add(layers.Dense(32, activation='relu'))\n",
        "model.add(layers.Dropout(0.5))\n",
        "model.add(layers.Dense(10, activation='softmax'))"
      ],
      "metadata": {
        "id": "CWRr2ZbBMzo7"
      },
      "execution_count": 15,
      "outputs": []
    },
    {
      "cell_type": "code",
      "source": [
        "model.compile(optimizer='rmsprop',\n",
        "              loss=tf.keras.losses.SparseCategoricalCrossentropy(from_logits=True),\n",
        "              metrics=['accuracy'])\n",
        "history = model.fit(X_train, y_train, epochs= 50, validation_data=(X_val, y_val))"
      ],
      "metadata": {
        "id": "dLmSIYpsNI-V",
        "colab": {
          "base_uri": "https://localhost:8080/"
        },
        "outputId": "bf6102e3-2d35-4948-9236-2cd16a50dd9f"
      },
      "execution_count": 16,
      "outputs": [
        {
          "output_type": "stream",
          "name": "stdout",
          "text": [
            "Epoch 1/50\n",
            "221/221 [==============================] - 2s 6ms/step - loss: 2.0697 - accuracy: 0.2291 - val_loss: 1.6671 - val_accuracy: 0.4084\n",
            "Epoch 2/50\n",
            "221/221 [==============================] - 1s 4ms/step - loss: 1.7687 - accuracy: 0.3531 - val_loss: 1.4407 - val_accuracy: 0.5254\n",
            "Epoch 3/50\n",
            "221/221 [==============================] - 1s 4ms/step - loss: 1.5890 - accuracy: 0.4348 - val_loss: 1.2427 - val_accuracy: 0.5916\n",
            "Epoch 4/50\n",
            "221/221 [==============================] - 1s 5ms/step - loss: 1.4381 - accuracy: 0.4900 - val_loss: 1.0665 - val_accuracy: 0.6832\n",
            "Epoch 5/50\n",
            "221/221 [==============================] - 2s 8ms/step - loss: 1.3369 - accuracy: 0.5260 - val_loss: 0.9934 - val_accuracy: 0.6959\n",
            "Epoch 6/50\n",
            "221/221 [==============================] - 2s 8ms/step - loss: 1.2503 - accuracy: 0.5629 - val_loss: 0.9329 - val_accuracy: 0.6985\n",
            "Epoch 7/50\n",
            "221/221 [==============================] - 1s 5ms/step - loss: 1.1789 - accuracy: 0.5963 - val_loss: 0.8092 - val_accuracy: 0.7265\n",
            "Epoch 8/50\n",
            "221/221 [==============================] - 1s 4ms/step - loss: 1.1135 - accuracy: 0.6126 - val_loss: 0.8053 - val_accuracy: 0.7455\n",
            "Epoch 9/50\n",
            "221/221 [==============================] - 1s 5ms/step - loss: 1.0542 - accuracy: 0.6418 - val_loss: 0.8025 - val_accuracy: 0.7392\n",
            "Epoch 10/50\n",
            "221/221 [==============================] - 2s 7ms/step - loss: 1.0079 - accuracy: 0.6635 - val_loss: 0.7340 - val_accuracy: 0.7595\n",
            "Epoch 11/50\n",
            "221/221 [==============================] - 1s 4ms/step - loss: 0.9671 - accuracy: 0.6762 - val_loss: 0.6624 - val_accuracy: 0.7875\n",
            "Epoch 12/50\n",
            "221/221 [==============================] - 1s 4ms/step - loss: 0.9308 - accuracy: 0.7009 - val_loss: 0.7010 - val_accuracy: 0.7939\n",
            "Epoch 13/50\n",
            "221/221 [==============================] - 1s 4ms/step - loss: 0.8707 - accuracy: 0.7158 - val_loss: 0.6923 - val_accuracy: 0.7812\n",
            "Epoch 14/50\n",
            "221/221 [==============================] - 1s 4ms/step - loss: 0.8314 - accuracy: 0.7319 - val_loss: 0.6269 - val_accuracy: 0.8053\n",
            "Epoch 15/50\n",
            "221/221 [==============================] - 1s 4ms/step - loss: 0.7923 - accuracy: 0.7446 - val_loss: 0.6372 - val_accuracy: 0.8142\n",
            "Epoch 16/50\n",
            "221/221 [==============================] - 1s 5ms/step - loss: 0.7715 - accuracy: 0.7541 - val_loss: 0.6278 - val_accuracy: 0.8053\n",
            "Epoch 17/50\n",
            "221/221 [==============================] - 1s 4ms/step - loss: 0.7436 - accuracy: 0.7634 - val_loss: 0.6792 - val_accuracy: 0.8015\n",
            "Epoch 18/50\n",
            "221/221 [==============================] - 1s 4ms/step - loss: 0.7198 - accuracy: 0.7729 - val_loss: 0.5924 - val_accuracy: 0.8053\n",
            "Epoch 19/50\n",
            "221/221 [==============================] - 1s 5ms/step - loss: 0.7020 - accuracy: 0.7839 - val_loss: 0.6622 - val_accuracy: 0.8041\n",
            "Epoch 20/50\n",
            "221/221 [==============================] - 2s 7ms/step - loss: 0.6624 - accuracy: 0.7906 - val_loss: 0.6206 - val_accuracy: 0.8104\n",
            "Epoch 21/50\n",
            "221/221 [==============================] - 2s 8ms/step - loss: 0.6777 - accuracy: 0.7873 - val_loss: 0.5650 - val_accuracy: 0.8104\n",
            "Epoch 22/50\n",
            "221/221 [==============================] - 2s 7ms/step - loss: 0.6451 - accuracy: 0.7991 - val_loss: 0.6121 - val_accuracy: 0.8015\n",
            "Epoch 23/50\n",
            "221/221 [==============================] - 2s 8ms/step - loss: 0.6513 - accuracy: 0.7960 - val_loss: 0.5900 - val_accuracy: 0.8193\n",
            "Epoch 24/50\n",
            "221/221 [==============================] - 2s 7ms/step - loss: 0.6488 - accuracy: 0.7974 - val_loss: 0.5582 - val_accuracy: 0.8181\n",
            "Epoch 25/50\n",
            "221/221 [==============================] - 2s 7ms/step - loss: 0.6272 - accuracy: 0.8070 - val_loss: 0.6898 - val_accuracy: 0.8257\n",
            "Epoch 26/50\n",
            "221/221 [==============================] - 1s 5ms/step - loss: 0.6445 - accuracy: 0.8059 - val_loss: 0.5882 - val_accuracy: 0.8244\n",
            "Epoch 27/50\n",
            "221/221 [==============================] - 1s 4ms/step - loss: 0.6195 - accuracy: 0.8135 - val_loss: 0.5484 - val_accuracy: 0.8384\n",
            "Epoch 28/50\n",
            "221/221 [==============================] - 1s 5ms/step - loss: 0.6265 - accuracy: 0.8135 - val_loss: 0.6311 - val_accuracy: 0.8295\n",
            "Epoch 29/50\n",
            "221/221 [==============================] - 1s 4ms/step - loss: 0.6149 - accuracy: 0.8138 - val_loss: 0.8940 - val_accuracy: 0.7824\n",
            "Epoch 30/50\n",
            "221/221 [==============================] - 1s 5ms/step - loss: 0.6452 - accuracy: 0.8061 - val_loss: 0.7034 - val_accuracy: 0.8244\n",
            "Epoch 31/50\n",
            "221/221 [==============================] - 1s 5ms/step - loss: 0.6215 - accuracy: 0.8100 - val_loss: 0.6725 - val_accuracy: 0.8244\n",
            "Epoch 32/50\n",
            "221/221 [==============================] - 1s 5ms/step - loss: 0.6560 - accuracy: 0.8131 - val_loss: 0.6255 - val_accuracy: 0.8117\n",
            "Epoch 33/50\n",
            "221/221 [==============================] - 1s 5ms/step - loss: 0.6038 - accuracy: 0.8220 - val_loss: 0.6345 - val_accuracy: 0.8219\n",
            "Epoch 34/50\n",
            "221/221 [==============================] - 1s 7ms/step - loss: 0.6496 - accuracy: 0.8138 - val_loss: 0.5698 - val_accuracy: 0.8257\n",
            "Epoch 35/50\n",
            "221/221 [==============================] - 1s 6ms/step - loss: 0.6345 - accuracy: 0.8148 - val_loss: 0.6620 - val_accuracy: 0.8117\n",
            "Epoch 36/50\n",
            "221/221 [==============================] - 2s 8ms/step - loss: 0.6507 - accuracy: 0.8139 - val_loss: 0.6584 - val_accuracy: 0.8359\n",
            "Epoch 37/50\n",
            "221/221 [==============================] - 1s 6ms/step - loss: 0.6534 - accuracy: 0.8035 - val_loss: 0.7382 - val_accuracy: 0.8079\n",
            "Epoch 38/50\n",
            "221/221 [==============================] - 1s 5ms/step - loss: 0.6797 - accuracy: 0.8063 - val_loss: 0.6846 - val_accuracy: 0.8117\n",
            "Epoch 39/50\n",
            "221/221 [==============================] - 1s 5ms/step - loss: 0.6756 - accuracy: 0.8109 - val_loss: 0.9630 - val_accuracy: 0.8092\n",
            "Epoch 40/50\n",
            "221/221 [==============================] - 2s 8ms/step - loss: 0.6870 - accuracy: 0.8042 - val_loss: 0.9166 - val_accuracy: 0.8193\n",
            "Epoch 41/50\n",
            "221/221 [==============================] - 1s 6ms/step - loss: 0.7019 - accuracy: 0.7986 - val_loss: 0.7683 - val_accuracy: 0.8193\n",
            "Epoch 42/50\n",
            "221/221 [==============================] - 1s 7ms/step - loss: 0.6909 - accuracy: 0.7986 - val_loss: 0.7383 - val_accuracy: 0.8155\n",
            "Epoch 43/50\n",
            "221/221 [==============================] - 1s 5ms/step - loss: 0.6874 - accuracy: 0.8054 - val_loss: 1.0422 - val_accuracy: 0.8168\n",
            "Epoch 44/50\n",
            "221/221 [==============================] - 1s 5ms/step - loss: 0.7367 - accuracy: 0.7825 - val_loss: 0.7482 - val_accuracy: 0.8041\n",
            "Epoch 45/50\n",
            "221/221 [==============================] - 1s 5ms/step - loss: 0.7228 - accuracy: 0.7960 - val_loss: 0.7735 - val_accuracy: 0.7468\n",
            "Epoch 46/50\n",
            "221/221 [==============================] - 1s 5ms/step - loss: 0.7073 - accuracy: 0.7952 - val_loss: 0.7262 - val_accuracy: 0.7901\n",
            "Epoch 47/50\n",
            "221/221 [==============================] - 1s 5ms/step - loss: 0.7072 - accuracy: 0.7991 - val_loss: 0.8431 - val_accuracy: 0.8244\n",
            "Epoch 48/50\n",
            "221/221 [==============================] - 1s 5ms/step - loss: 0.7139 - accuracy: 0.7975 - val_loss: 0.8254 - val_accuracy: 0.8168\n",
            "Epoch 49/50\n",
            "221/221 [==============================] - 1s 5ms/step - loss: 0.7506 - accuracy: 0.7893 - val_loss: 0.9864 - val_accuracy: 0.7303\n",
            "Epoch 50/50\n",
            "221/221 [==============================] - 1s 4ms/step - loss: 0.7589 - accuracy: 0.7861 - val_loss: 0.9363 - val_accuracy: 0.8079\n"
          ]
        }
      ]
    },
    {
      "cell_type": "code",
      "source": [
        "plt.plot(history.history['accuracy'], label='accuracy')\n",
        "plt.plot(history.history['val_accuracy'], label = 'val_accuracy')\n",
        "plt.xlabel('Epoch')\n",
        "plt.ylabel('Accuracy')\n",
        "plt.legend(loc='lower right')"
      ],
      "metadata": {
        "colab": {
          "base_uri": "https://localhost:8080/",
          "height": 296
        },
        "id": "2YWgMECNPD3e",
        "outputId": "b9ea7450-63e1-4c9a-d395-b7afc678b4ec"
      },
      "execution_count": 21,
      "outputs": [
        {
          "output_type": "execute_result",
          "data": {
            "text/plain": [
              "<matplotlib.legend.Legend at 0x7fdf066431d0>"
            ]
          },
          "metadata": {},
          "execution_count": 21
        },
        {
          "output_type": "display_data",
          "data": {
            "text/plain": [
              "<Figure size 432x288 with 1 Axes>"
            ],
            "image/png": "[encoded data removed]"
          },
          "metadata": {
            "needs_background": "light"
          }
        }
      ]
    },
    {
      "cell_type": "code",
      "source": [
        "model.evaluate(X_test,y_test)"
      ],
      "metadata": {
        "colab": {
          "base_uri": "https://localhost:8080/"
        },
        "id": "nBDlwS-ApsC3",
        "outputId": "6da754b6-ef81-47f9-8429-3508eeff587f"
      },
      "execution_count": 20,
      "outputs": [
        {
          "output_type": "stream",
          "name": "stdout",
          "text": [
            "28/28 [==============================] - 0s 4ms/step - loss: 0.9842 - accuracy: 0.7780\n"
          ]
        },
        {
          "output_type": "execute_result",
          "data": {
            "text/plain": [
              "[0.9841741323471069, 0.7780320644378662]"
            ]
          },
          "metadata": {},
          "execution_count": 20
        }
      ]
    },
    {
      "cell_type": "code",
      "source": [],
      "metadata": {
        "id": "_Gr2T9XDp5ZT"
      },
      "execution_count": null,
      "outputs": []
    }
  ]
}